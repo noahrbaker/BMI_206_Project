{
 "cells": [
  {
   "cell_type": "code",
   "execution_count": 1,
   "id": "a450bdde-62c3-4673-a4d2-a4822f769a15",
   "metadata": {},
   "outputs": [],
   "source": [
    "import pandas as pd\n",
    "import numpy as np"
   ]
  },
  {
   "cell_type": "markdown",
   "id": "7839d40e-8385-46e8-a558-2cfe4fabf172",
   "metadata": {},
   "source": [
    "### GWAS simulation population summary datasets"
   ]
  },
  {
   "cell_type": "code",
   "execution_count": 2,
   "id": "39037489-28fa-429b-b6c1-e86e3e2f52e6",
   "metadata": {
    "tags": []
   },
   "outputs": [],
   "source": [
    "bbj_path = \"/wynton/scratch/BMI206_NIC/noahs_project/simulations/bbj_sim_pop.tsv\"\n",
    "bbj = pd.read_csv(bbj_path, sep=\"\\t\")"
   ]
  },
  {
   "cell_type": "code",
   "execution_count": 3,
   "id": "f3eda210-5254-464d-ab09-980e215d36b3",
   "metadata": {
    "tags": []
   },
   "outputs": [],
   "source": [
    "page_path = \"/wynton/scratch/BMI206_NIC/noahs_project/simulations/page_sim_pop.tsv\"\n",
    "page = pd.read_csv(page_path, sep=\"\\t\")"
   ]
  },
  {
   "cell_type": "code",
   "execution_count": 5,
   "id": "a094b4b8-0ac9-4dca-a2a7-dbc0654da2cb",
   "metadata": {
    "tags": []
   },
   "outputs": [],
   "source": [
    "# bbj_path = \"/wynton/scratch/BMI206_NIC/noahs_project/simulations/sep/bbj_only_pop.tsv\"\n",
    "# bbj_only = pd.read_csv(bbj_path, sep=\"\\t\")"
   ]
  },
  {
   "cell_type": "code",
   "execution_count": 6,
   "id": "0fd6c936-1b4b-4007-a482-65351c7e1c1b",
   "metadata": {
    "tags": []
   },
   "outputs": [],
   "source": [
    "# bbj_path = \"/wynton/scratch/BMI206_NIC/noahs_project/simulations/sep/bbj_share_pop.tsv\"\n",
    "# bbj_share = pd.read_csv(bbj_path, sep=\"\\t\")"
   ]
  },
  {
   "cell_type": "code",
   "execution_count": 7,
   "id": "3de173b4-4737-4715-8d19-c680d1b7e9eb",
   "metadata": {
    "tags": []
   },
   "outputs": [],
   "source": [
    "# page_path = \"/wynton/scratch/BMI206_NIC/noahs_project/simulations/sep/page_only_pop.tsv\"\n",
    "# page_only = pd.read_csv(page_path, sep=\"\\t\")"
   ]
  },
  {
   "cell_type": "code",
   "execution_count": 8,
   "id": "b81e21a5-ed08-498b-b550-d460cf7c1de5",
   "metadata": {
    "tags": []
   },
   "outputs": [],
   "source": [
    "# page_path = \"/wynton/scratch/BMI206_NIC/noahs_project/simulations/sep/page_share_pop.tsv\"\n",
    "# page_share = pd.read_csv(page_path, sep=\"\\t\")"
   ]
  },
  {
   "cell_type": "code",
   "execution_count": 9,
   "id": "70e01017-cf0d-4b0f-96a5-65db2aa1a404",
   "metadata": {
    "tags": []
   },
   "outputs": [],
   "source": [
    "# read in the intersect SNPs as list\n",
    "interset = pd.read_csv('interset_2.csv')['SNP']"
   ]
  },
  {
   "cell_type": "markdown",
   "id": "520204c6-cc9c-4fb4-9741-d1da36783210",
   "metadata": {},
   "source": [
    "### Check the size of variables"
   ]
  },
  {
   "cell_type": "code",
   "execution_count": 10,
   "id": "7a561e20-4eb9-4547-b38b-73eb218c7232",
   "metadata": {
    "tags": []
   },
   "outputs": [
    {
     "name": "stdout",
     "output_type": "stream",
     "text": [
      "The size of the variable is: 0.128626855 GB\n"
     ]
    }
   ],
   "source": [
    "import sys\n",
    "\n",
    "# Get the size of the variable in bytes\n",
    "size_in_bytes = sys.getsizeof(bbj)\n",
    "\n",
    "# Convert bytes to gigabytes\n",
    "size_in_gb = size_in_bytes / (1024 ** 3)\n",
    "\n",
    "print(f\"The size of the variable is: {size_in_gb:.9f} GB\")"
   ]
  },
  {
   "cell_type": "code",
   "execution_count": 13,
   "id": "8a75069b-7ca4-4bde-a208-4a609237bd60",
   "metadata": {
    "tags": []
   },
   "outputs": [
    {
     "data": {
      "text/html": [
       "<div>\n",
       "<style scoped>\n",
       "    .dataframe tbody tr th:only-of-type {\n",
       "        vertical-align: middle;\n",
       "    }\n",
       "\n",
       "    .dataframe tbody tr th {\n",
       "        vertical-align: top;\n",
       "    }\n",
       "\n",
       "    .dataframe thead th {\n",
       "        text-align: right;\n",
       "    }\n",
       "</style>\n",
       "<table border=\"1\" class=\"dataframe\">\n",
       "  <thead>\n",
       "    <tr style=\"text-align: right;\">\n",
       "      <th></th>\n",
       "      <th>SNP</th>\n",
       "      <th>A1</th>\n",
       "      <th>A2</th>\n",
       "      <th>BETA</th>\n",
       "      <th>SE</th>\n",
       "    </tr>\n",
       "  </thead>\n",
       "  <tbody>\n",
       "    <tr>\n",
       "      <th>0</th>\n",
       "      <td>rs3934834</td>\n",
       "      <td>C</td>\n",
       "      <td>T</td>\n",
       "      <td>0.023554</td>\n",
       "      <td>0.673728</td>\n",
       "    </tr>\n",
       "    <tr>\n",
       "      <th>1</th>\n",
       "      <td>rs9442372</td>\n",
       "      <td>A</td>\n",
       "      <td>G</td>\n",
       "      <td>-0.104435</td>\n",
       "      <td>0.534401</td>\n",
       "    </tr>\n",
       "    <tr>\n",
       "      <th>2</th>\n",
       "      <td>rs6687776</td>\n",
       "      <td>C</td>\n",
       "      <td>T</td>\n",
       "      <td>-0.682486</td>\n",
       "      <td>0.574653</td>\n",
       "    </tr>\n",
       "    <tr>\n",
       "      <th>3</th>\n",
       "      <td>rs4970405</td>\n",
       "      <td>A</td>\n",
       "      <td>G</td>\n",
       "      <td>1.627117</td>\n",
       "      <td>0.902432</td>\n",
       "    </tr>\n",
       "    <tr>\n",
       "      <th>4</th>\n",
       "      <td>rs12726255</td>\n",
       "      <td>A</td>\n",
       "      <td>G</td>\n",
       "      <td>-0.013162</td>\n",
       "      <td>0.579338</td>\n",
       "    </tr>\n",
       "  </tbody>\n",
       "</table>\n",
       "</div>"
      ],
      "text/plain": [
       "          SNP A1 A2      BETA        SE\n",
       "0   rs3934834  C  T  0.023554  0.673728\n",
       "1   rs9442372  A  G -0.104435  0.534401\n",
       "2   rs6687776  C  T -0.682486  0.574653\n",
       "3   rs4970405  A  G  1.627117  0.902432\n",
       "4  rs12726255  A  G -0.013162  0.579338"
      ]
     },
     "execution_count": 13,
     "metadata": {},
     "output_type": "execute_result"
    }
   ],
   "source": [
    "page.head()"
   ]
  },
  {
   "cell_type": "code",
   "execution_count": 14,
   "id": "a4710580-4dc9-4dde-b865-80bb6c2ca203",
   "metadata": {
    "tags": []
   },
   "outputs": [
    {
     "data": {
      "text/plain": [
       "50.0"
      ]
     },
     "execution_count": 14,
     "metadata": {},
     "output_type": "execute_result"
    }
   ],
   "source": [
    "# percent that has overlap with the different populations\n",
    "len(interset)/bbj.shape[0]*100"
   ]
  },
  {
   "cell_type": "markdown",
   "id": "dab5a680-6065-4b42-9e4b-c7e4b06e28ff",
   "metadata": {},
   "source": [
    "# Simulate populations"
   ]
  },
  {
   "cell_type": "code",
   "execution_count": 23,
   "id": "f36452e4-99c1-45f2-9612-b6db9007d566",
   "metadata": {
    "tags": []
   },
   "outputs": [],
   "source": [
    "def sim_function(df):\n",
    "    # Vectorized simulation of new beta values\n",
    "    df['BETA'] = np.random.normal(loc=df['BETA'], scale=df['SE'])\n",
    "\n",
    "    # Ensuring BETA is second to last and SE is last\n",
    "    cols_order = [col for col in df.columns if col not in ['BETA', 'SE']] + ['BETA', 'SE']\n",
    "    df = df[cols_order]\n",
    "    return df\n",
    "\n",
    "\n",
    "def sim_betas(dfA, dfB, interset, ratio=0, random_state=42):\n",
    "    # Check if 'BETA' and 'SE' columns exist in both DataFrames\n",
    "    for df in [dfA, dfB]:\n",
    "        if 'BETA' not in df.columns or 'SE' not in df.columns:\n",
    "            raise ValueError(\"Required columns 'BETA' or 'SE' are missing in the DataFrame\")\n",
    "    \n",
    "    # note ratio refers to the ratio of the entire sample being simulated and is thus doubled\n",
    "    num_sim = round(len(interset) * ratio * 2)\n",
    "\n",
    "    # Select the indices that I want to simulate on\n",
    "    np.random.seed(random_state)\n",
    "    indices = np.random.choice(len(interset), num_sim, replace=False)\n",
    "    # print(len(indices))\n",
    "    rsIDs = interset[indices]\n",
    "    # print(rsIDs)\n",
    "\n",
    "    # df of the yes selection and the no selection for which are simulated\n",
    "    df_y_sel = dfB[dfB['SNP'].isin(rsIDs)].copy()\n",
    "    df_n_sel = dfA[~dfA['SNP'].isin(rsIDs)].copy()\n",
    "    \n",
    "    # simulate for the replaced and the non-replaced\n",
    "    df_y_sel = sim_function(df_y_sel)\n",
    "    df_n_sel = sim_function(df_n_sel)\n",
    "\n",
    "    # Concatenate the DataFrames\n",
    "    df_out = pd.concat([df_y_sel, df_n_sel], axis=0, ignore_index=True)\n",
    "\n",
    "    return df_out"
   ]
  },
  {
   "cell_type": "code",
   "execution_count": 28,
   "id": "0ed6697a-f2e5-48b4-996c-918ea5bc51fc",
   "metadata": {
    "tags": []
   },
   "outputs": [],
   "source": [
    "# run the simulations and save the data\n",
    "def run_sims(ratios, datasets, data_names, interset, random_states):\n",
    "    if len(datasets) != len(data_names):\n",
    "        raise ValueError(\"datasets and data_names must be the same length\")\n",
    "    \n",
    "    for data_index in range(0, len(datasets)):\n",
    "        for ratio in ratios:\n",
    "            for rand in random_states:\n",
    "                sim_data = sim_betas(datasets[data_index], datasets[data_index-1], interset, ratio, rand)\n",
    "                file_name = f'simulations/out/{data_names[data_index]}_{ratio}_r{rand}.tsv'\n",
    "                print(file_name)\n",
    "                sim_data.to_csv(file_name, sep='\\t', index=False, encoding='utf-8')"
   ]
  },
  {
   "cell_type": "code",
   "execution_count": 29,
   "id": "95f200ff-83c1-4e60-97c0-396aa0db78b5",
   "metadata": {
    "tags": []
   },
   "outputs": [
    {
     "name": "stdout",
     "output_type": "stream",
     "text": [
      "simulations/out/bbj_0.01_r1.tsv\n",
      "simulations/out/bbj_0.01_r2.tsv\n",
      "simulations/out/bbj_0.01_r3.tsv\n",
      "simulations/out/bbj_0.01_r4.tsv\n",
      "simulations/out/bbj_0.01_r5.tsv\n",
      "simulations/out/bbj_0.05_r1.tsv\n",
      "simulations/out/bbj_0.05_r2.tsv\n",
      "simulations/out/bbj_0.05_r3.tsv\n",
      "simulations/out/bbj_0.05_r4.tsv\n",
      "simulations/out/bbj_0.05_r5.tsv\n",
      "simulations/out/bbj_0.1_r1.tsv\n",
      "simulations/out/bbj_0.1_r2.tsv\n",
      "simulations/out/bbj_0.1_r3.tsv\n",
      "simulations/out/bbj_0.1_r4.tsv\n",
      "simulations/out/bbj_0.1_r5.tsv\n",
      "simulations/out/bbj_0.15_r1.tsv\n",
      "simulations/out/bbj_0.15_r2.tsv\n",
      "simulations/out/bbj_0.15_r3.tsv\n",
      "simulations/out/bbj_0.15_r4.tsv\n",
      "simulations/out/bbj_0.15_r5.tsv\n",
      "simulations/out/bbj_0.2_r1.tsv\n",
      "simulations/out/bbj_0.2_r2.tsv\n",
      "simulations/out/bbj_0.2_r3.tsv\n",
      "simulations/out/bbj_0.2_r4.tsv\n",
      "simulations/out/bbj_0.2_r5.tsv\n",
      "simulations/out/bbj_0.25_r1.tsv\n",
      "simulations/out/bbj_0.25_r2.tsv\n",
      "simulations/out/bbj_0.25_r3.tsv\n",
      "simulations/out/bbj_0.25_r4.tsv\n",
      "simulations/out/bbj_0.25_r5.tsv\n",
      "simulations/out/bbj_0.3_r1.tsv\n",
      "simulations/out/bbj_0.3_r2.tsv\n",
      "simulations/out/bbj_0.3_r3.tsv\n",
      "simulations/out/bbj_0.3_r4.tsv\n",
      "simulations/out/bbj_0.3_r5.tsv\n",
      "simulations/out/bbj_0.4_r1.tsv\n",
      "simulations/out/bbj_0.4_r2.tsv\n",
      "simulations/out/bbj_0.4_r3.tsv\n",
      "simulations/out/bbj_0.4_r4.tsv\n",
      "simulations/out/bbj_0.4_r5.tsv\n",
      "simulations/out/bbj_0.5_r1.tsv\n",
      "simulations/out/bbj_0.5_r2.tsv\n",
      "simulations/out/bbj_0.5_r3.tsv\n",
      "simulations/out/bbj_0.5_r4.tsv\n",
      "simulations/out/bbj_0.5_r5.tsv\n",
      "simulations/out/page_0.01_r1.tsv\n",
      "simulations/out/page_0.01_r2.tsv\n",
      "simulations/out/page_0.01_r3.tsv\n",
      "simulations/out/page_0.01_r4.tsv\n",
      "simulations/out/page_0.01_r5.tsv\n",
      "simulations/out/page_0.05_r1.tsv\n",
      "simulations/out/page_0.05_r2.tsv\n",
      "simulations/out/page_0.05_r3.tsv\n",
      "simulations/out/page_0.05_r4.tsv\n",
      "simulations/out/page_0.05_r5.tsv\n",
      "simulations/out/page_0.1_r1.tsv\n",
      "simulations/out/page_0.1_r2.tsv\n",
      "simulations/out/page_0.1_r3.tsv\n",
      "simulations/out/page_0.1_r4.tsv\n",
      "simulations/out/page_0.1_r5.tsv\n",
      "simulations/out/page_0.15_r1.tsv\n",
      "simulations/out/page_0.15_r2.tsv\n",
      "simulations/out/page_0.15_r3.tsv\n",
      "simulations/out/page_0.15_r4.tsv\n",
      "simulations/out/page_0.15_r5.tsv\n",
      "simulations/out/page_0.2_r1.tsv\n",
      "simulations/out/page_0.2_r2.tsv\n",
      "simulations/out/page_0.2_r3.tsv\n",
      "simulations/out/page_0.2_r4.tsv\n",
      "simulations/out/page_0.2_r5.tsv\n",
      "simulations/out/page_0.25_r1.tsv\n",
      "simulations/out/page_0.25_r2.tsv\n",
      "simulations/out/page_0.25_r3.tsv\n",
      "simulations/out/page_0.25_r4.tsv\n",
      "simulations/out/page_0.25_r5.tsv\n",
      "simulations/out/page_0.3_r1.tsv\n",
      "simulations/out/page_0.3_r2.tsv\n",
      "simulations/out/page_0.3_r3.tsv\n",
      "simulations/out/page_0.3_r4.tsv\n",
      "simulations/out/page_0.3_r5.tsv\n",
      "simulations/out/page_0.4_r1.tsv\n",
      "simulations/out/page_0.4_r2.tsv\n",
      "simulations/out/page_0.4_r3.tsv\n",
      "simulations/out/page_0.4_r4.tsv\n",
      "simulations/out/page_0.4_r5.tsv\n",
      "simulations/out/page_0.5_r1.tsv\n",
      "simulations/out/page_0.5_r2.tsv\n",
      "simulations/out/page_0.5_r3.tsv\n",
      "simulations/out/page_0.5_r4.tsv\n",
      "simulations/out/page_0.5_r5.tsv\n"
     ]
    }
   ],
   "source": [
    "ratios = [0.01, 0.05, 0.1, 0.15, 0.2, 0.25, 0.3, 0.4, 0.5]\n",
    "random_states = [1, 2, 3, 4, 5]\n",
    "\n",
    "run_sims(ratios, [bbj, page], ['bbj', 'page'], interset, random_states)"
   ]
  },
  {
   "cell_type": "code",
   "execution_count": null,
   "id": "d4d12b01-574c-4334-82b5-b481498f9686",
   "metadata": {},
   "outputs": [],
   "source": []
  },
  {
   "cell_type": "code",
   "execution_count": null,
   "id": "15d2bdc4-8222-4ed2-a755-b83d4c03025d",
   "metadata": {},
   "outputs": [],
   "source": []
  }
 ],
 "metadata": {
  "kernelspec": {
   "display_name": "bmi206",
   "language": "python",
   "name": "bmi206"
  },
  "language_info": {
   "codemirror_mode": {
    "name": "ipython",
    "version": 3
   },
   "file_extension": ".py",
   "mimetype": "text/x-python",
   "name": "python",
   "nbconvert_exporter": "python",
   "pygments_lexer": "ipython3",
   "version": "3.13.0"
  }
 },
 "nbformat": 4,
 "nbformat_minor": 5
}
