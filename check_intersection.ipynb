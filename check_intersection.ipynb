{
 "cells": [
  {
   "cell_type": "code",
   "execution_count": 114,
   "id": "beef96bb-7cbb-48f5-a966-c48a486224af",
   "metadata": {
    "tags": []
   },
   "outputs": [],
   "source": [
    "import pandas as pd\n",
    "import numpy as np"
   ]
  },
  {
   "cell_type": "markdown",
   "id": "93ac6944-98e2-4f06-b300-d9d0a8c44124",
   "metadata": {},
   "source": [
    "### GWAS summary datasets"
   ]
  },
  {
   "cell_type": "code",
   "execution_count": 85,
   "id": "8410e8f1-17f2-448c-a9dc-fa2e5f4cda54",
   "metadata": {
    "tags": []
   },
   "outputs": [],
   "source": [
    "bbj_path = \"/wynton/scratch/BMI206_NIC/BBJ/hum0197.v3.BBJ.PLT.v1/cl_GWASsummary_PLT_Japanese_SakaueKanai2020.auto.txt\"\n",
    "bbj = pd.read_csv(bbj_path, sep=\"\\t\")"
   ]
  },
  {
   "cell_type": "code",
   "execution_count": 86,
   "id": "7961d651-f058-4643-8690-a4e559a32e7f",
   "metadata": {
    "tags": []
   },
   "outputs": [],
   "source": [
    "page_path = \"/wynton/scratch/BMI206_NIC/PAGE_data/cl_WojcikG_PMID_platelets\"\n",
    "page = pd.read_csv(page_path, sep=\"\\t\")"
   ]
  },
  {
   "cell_type": "code",
   "execution_count": 87,
   "id": "e4869703-220f-4b82-9200-8d46a2fe5845",
   "metadata": {
    "tags": []
   },
   "outputs": [],
   "source": [
    "# clean bbj and page data to have only rsIDs by themselves\n",
    "bbj['SNP'] = bbj['SNP'].str.split(':').str[0]\n",
    "page['SNP'] = page['SNP'].str.split(':').str[0]\n"
   ]
  },
  {
   "cell_type": "markdown",
   "id": "d1270feb-e1fc-4072-a983-a56adc9b8dd6",
   "metadata": {},
   "source": [
    "### Ref datasets"
   ]
  },
  {
   "cell_type": "markdown",
   "id": "2d66ed02-6eb2-47dc-9075-20778df9a2cc",
   "metadata": {},
   "source": [
    "Not considering EUR because the BBJ is from Asia and PAGE is from AMR"
   ]
  },
  {
   "cell_type": "code",
   "execution_count": 4,
   "id": "8a83e061-2014-44f1-b4ee-ef2e3ab9172c",
   "metadata": {
    "tags": []
   },
   "outputs": [],
   "source": [
    "# ref_eur_path = '/wynton/scratch/BMI206_NIC/ref_datasets/1KG_datasets/ldblk_1kg_eur/snpinfo_1kg_hm3'\n",
    "# ref_eur = pd.read_csv(ref_eur_path, sep=\"\\t\", usecols=[1])"
   ]
  },
  {
   "cell_type": "code",
   "execution_count": 88,
   "id": "52e89942-de52-4349-8a9e-ebad7d7c6f8e",
   "metadata": {
    "tags": []
   },
   "outputs": [],
   "source": [
    "ref_amr_path = '/wynton/scratch/BMI206_NIC/ref_datasets/1KG_datasets/ldblk_1kg_amr/snpinfo_1kg_hm3'\n",
    "ref_amr = pd.read_csv(ref_amr_path, sep=\"\\t\", usecols=[1])"
   ]
  },
  {
   "cell_type": "code",
   "execution_count": 89,
   "id": "a22ba77f-004e-44a6-a69e-05d7f2dec409",
   "metadata": {
    "tags": []
   },
   "outputs": [],
   "source": [
    "ref_eas_path = '/wynton/scratch/BMI206_NIC/ref_datasets/1KG_datasets/ldblk_1kg_eas/snpinfo_1kg_hm3'\n",
    "ref_eas = pd.read_csv(ref_eas_path, sep=\"\\t\", usecols=[1])"
   ]
  },
  {
   "cell_type": "markdown",
   "id": "a3b370f7-7931-4df8-b727-4ae4ae59d3bc",
   "metadata": {},
   "source": [
    "### Target datasets"
   ]
  },
  {
   "cell_type": "code",
   "execution_count": 90,
   "id": "30bf6158-a9f4-4395-a8d0-f89fd50cd769",
   "metadata": {
    "tags": []
   },
   "outputs": [],
   "source": [
    "alz_path = '/wynton/scratch/BMI206_NIC/naracGenos-gaw16raw.bim'\n",
    "alz = pd.read_csv(alz_path, sep=\"\\t\", usecols=[1], header=None)\n",
    "alz.columns = ['SNP']"
   ]
  },
  {
   "cell_type": "markdown",
   "id": "7cbda0a9-e451-4aa4-bc90-ed3e468f4ea7",
   "metadata": {},
   "source": [
    "## Intersect"
   ]
  },
  {
   "cell_type": "code",
   "execution_count": 91,
   "id": "fce84a29-7c05-410f-a722-81ca012e7b1c",
   "metadata": {
    "tags": []
   },
   "outputs": [
    {
     "name": "stdout",
     "output_type": "stream",
     "text": [
      "bbj_set complete\n",
      "page_set complete\n",
      "ref_amr_set complete\n",
      "ref_eas_set complete\n",
      "alz_set complete\n"
     ]
    }
   ],
   "source": [
    "bbj_set = set(bbj[\"SNP\"])\n",
    "print('bbj_set complete')\n",
    "\n",
    "page_set = set(page[\"SNP\"])\n",
    "print('page_set complete')\n",
    "\n",
    "# ref_eur_set = set(ref_eur[\"SNP\"])\n",
    "# print('ref_eur_set complete')\n",
    "\n",
    "ref_amr_set = set(ref_amr[\"SNP\"])\n",
    "print('ref_amr_set complete')\n",
    "\n",
    "ref_eas_set = set(ref_eas[\"SNP\"])\n",
    "print('ref_eas_set complete')\n",
    "\n",
    "alz_set = set(alz[\"SNP\"])\n",
    "print('alz_set complete')\n"
   ]
  },
  {
   "cell_type": "code",
   "execution_count": 92,
   "id": "deb61822-0600-446f-b865-8e57ec96d39e",
   "metadata": {
    "tags": []
   },
   "outputs": [],
   "source": [
    "interset = list(bbj_set.intersection(page_set, ref_amr_set, ref_eas_set, alz_set))"
   ]
  },
  {
   "cell_type": "code",
   "execution_count": 93,
   "id": "7b8bd425-a0df-4629-8af6-4f42ad8cf96d",
   "metadata": {
    "tags": []
   },
   "outputs": [
    {
     "data": {
      "text/plain": [
       "395406"
      ]
     },
     "execution_count": 93,
     "metadata": {},
     "output_type": "execute_result"
    }
   ],
   "source": [
    "len(interset)"
   ]
  },
  {
   "cell_type": "markdown",
   "id": "0bbf998f-482e-4d90-934e-14f351c36017",
   "metadata": {},
   "source": [
    "Ok, so I established that there is an intersection between the three datasets I would need. Yay!"
   ]
  },
  {
   "cell_type": "code",
   "execution_count": null,
   "id": "ad337685-daa4-4eff-8ee8-26121300674a",
   "metadata": {},
   "outputs": [],
   "source": []
  },
  {
   "cell_type": "markdown",
   "id": "018078f2-3215-4f98-9661-0e9271cd54d3",
   "metadata": {},
   "source": [
    "## Saving the file as a csv"
   ]
  },
  {
   "cell_type": "code",
   "execution_count": 94,
   "id": "cd020ba7-4510-41bc-9396-ddc19480de5c",
   "metadata": {
    "tags": []
   },
   "outputs": [],
   "source": [
    "# Convert the list to a DataFrame\n",
    "interset_df = pd.DataFrame(interset, columns=['SNP'])\n",
    "\n",
    "# Save the DataFrame to a CSV file\n",
    "interset_df.to_csv('interset_2.csv', index=False)"
   ]
  },
  {
   "cell_type": "code",
   "execution_count": null,
   "id": "fc592729-cb5b-4f91-ba1d-da22438f70b5",
   "metadata": {},
   "outputs": [],
   "source": []
  },
  {
   "cell_type": "markdown",
   "id": "892f8a2d-4856-4964-b910-e5fd13e6ea30",
   "metadata": {},
   "source": [
    "# Downsampling GWAS summary stats"
   ]
  },
  {
   "cell_type": "markdown",
   "id": "2322af51-9914-411b-8f7b-ec6b9dbc0b3f",
   "metadata": {},
   "source": [
    "In order to have even representation across the different SNPs, I need to downsample the SNPs to be sure I am capturing an even number of SNPs."
   ]
  },
  {
   "cell_type": "code",
   "execution_count": 95,
   "id": "49d403be-c622-4d8a-9fda-1964a519a300",
   "metadata": {},
   "outputs": [
    {
     "data": {
      "text/plain": [
       "520390"
      ]
     },
     "execution_count": 95,
     "metadata": {},
     "output_type": "execute_result"
    }
   ],
   "source": [
    "page_i_alz = page_set.intersection(alz_set)\n",
    "len(page_i_alz)"
   ]
  },
  {
   "cell_type": "code",
   "execution_count": 96,
   "id": "4134c4ae-05a8-42e9-bd50-cc35cba746f6",
   "metadata": {
    "tags": []
   },
   "outputs": [
    {
     "data": {
      "text/plain": [
       "1171405"
      ]
     },
     "execution_count": 96,
     "metadata": {},
     "output_type": "execute_result"
    }
   ],
   "source": [
    "page_i_amr = page_set.intersection(ref_amr_set)\n",
    "len(page_i_amr)"
   ]
  },
  {
   "cell_type": "code",
   "execution_count": 97,
   "id": "3ca6ce25-290e-4ad4-ad2c-0f1184cbf7ec",
   "metadata": {},
   "outputs": [
    {
     "data": {
      "text/plain": [
       "442859"
      ]
     },
     "execution_count": 97,
     "metadata": {},
     "output_type": "execute_result"
    }
   ],
   "source": [
    "bbj_i_alz = bbj_set.intersection(alz_set)\n",
    "len(bbj_i_alz)"
   ]
  },
  {
   "cell_type": "code",
   "execution_count": 98,
   "id": "9239c212-9d1f-43b1-b0a8-047b907dbf01",
   "metadata": {},
   "outputs": [
    {
     "data": {
      "text/plain": [
       "957779"
      ]
     },
     "execution_count": 98,
     "metadata": {},
     "output_type": "execute_result"
    }
   ],
   "source": [
    "bbj_i_eas = bbj_set.intersection(ref_eas_set)\n",
    "len(bbj_i_eas)"
   ]
  },
  {
   "cell_type": "code",
   "execution_count": 99,
   "id": "e5fef0b5-df55-441f-85a2-d46f9bd453f5",
   "metadata": {
    "tags": []
   },
   "outputs": [],
   "source": [
    "# all SNPs that do not overlap with either alz or amr or eas\n",
    "page_anti_set = page_set.difference(alz_set, ref_amr_set, ref_eas_set)"
   ]
  },
  {
   "cell_type": "code",
   "execution_count": 100,
   "id": "8eaafec5-809c-49fb-bf72-ca452da6d8c1",
   "metadata": {
    "tags": []
   },
   "outputs": [],
   "source": [
    "# all SNPs that do not overlap with either alz or amr or eas\n",
    "bbj_anti_set = bbj_set.difference(alz_set, ref_amr_set, ref_eas_set)"
   ]
  },
  {
   "cell_type": "code",
   "execution_count": 101,
   "id": "a6455320-378f-4606-89c6-3fc93cd8ac78",
   "metadata": {
    "tags": []
   },
   "outputs": [
    {
     "data": {
      "text/plain": [
       "24081415"
      ]
     },
     "execution_count": 101,
     "metadata": {},
     "output_type": "execute_result"
    }
   ],
   "source": [
    "len(page_anti_set)"
   ]
  },
  {
   "cell_type": "code",
   "execution_count": 102,
   "id": "77b8bb9f-6d4c-42fa-845d-7716548e3929",
   "metadata": {
    "tags": []
   },
   "outputs": [
    {
     "data": {
      "text/plain": [
       "9402659"
      ]
     },
     "execution_count": 102,
     "metadata": {},
     "output_type": "execute_result"
    }
   ],
   "source": [
    "len(bbj_anti_set)"
   ]
  },
  {
   "cell_type": "markdown",
   "id": "2e514d24-0b8d-4e7e-8601-546139977f1c",
   "metadata": {},
   "source": [
    "This is the set I will sample from!"
   ]
  },
  {
   "cell_type": "code",
   "execution_count": 103,
   "id": "96f8a6bd-906f-492d-897f-cdb89296dacb",
   "metadata": {
    "tags": []
   },
   "outputs": [
    {
     "data": {
      "text/plain": [
       "395406"
      ]
     },
     "execution_count": 103,
     "metadata": {},
     "output_type": "execute_result"
    }
   ],
   "source": [
    "len(interset)"
   ]
  },
  {
   "cell_type": "markdown",
   "id": "bd6c61aa-57a3-42de-842c-1e896f13930e",
   "metadata": {},
   "source": [
    "^ This is the number of SNPs I will downsample to with the remaining GWAS rows"
   ]
  },
  {
   "cell_type": "code",
   "execution_count": null,
   "id": "4f0e0eee-57e0-4bfe-910a-221f96ab1427",
   "metadata": {},
   "outputs": [],
   "source": []
  },
  {
   "cell_type": "code",
   "execution_count": null,
   "id": "8988e7fd-248c-4273-b663-b4d1690a7420",
   "metadata": {},
   "outputs": [],
   "source": []
  },
  {
   "cell_type": "code",
   "execution_count": null,
   "id": "9d496a43-fe06-430a-82bb-49c97672e153",
   "metadata": {},
   "outputs": [],
   "source": []
  },
  {
   "cell_type": "code",
   "execution_count": null,
   "id": "f01f0ff7-c57f-453c-94c7-24d7e5e975c1",
   "metadata": {},
   "outputs": [],
   "source": []
  },
  {
   "cell_type": "code",
   "execution_count": null,
   "id": "265a7b19-dd72-40eb-b0c6-c5b93b76be6c",
   "metadata": {},
   "outputs": [],
   "source": []
  },
  {
   "cell_type": "code",
   "execution_count": null,
   "id": "dec9e2c6-512c-47d3-a86e-494a25d85e99",
   "metadata": {},
   "outputs": [],
   "source": []
  },
  {
   "cell_type": "code",
   "execution_count": null,
   "id": "e2589617-0873-476c-889a-19696de71e30",
   "metadata": {},
   "outputs": [],
   "source": []
  },
  {
   "cell_type": "code",
   "execution_count": 59,
   "id": "d04f45e0-4911-43bf-96e2-a5e28592712e",
   "metadata": {
    "tags": []
   },
   "outputs": [],
   "source": [
    "# Sample DataFrame from your description\n",
    "df = pd.DataFrame({\n",
    "    'SNP': ['rs28544273', 'rs28527770', 'rs3094315', 'rs3131971', 'rs3115860'],\n",
    "    'A1': ['T', 'T', 'G', 'T', 'C'],\n",
    "    'A2': ['A', 'C', 'A', 'C', 'A'],\n",
    "    'BETA': [-0.002152, -0.002130, 0.001966, 0.002179, 0.002134],\n",
    "    'SE': [0.004887, 0.004876, 0.004516, 0.004754, 0.004841]\n",
    "})"
   ]
  },
  {
   "cell_type": "markdown",
   "id": "61a18393-ab69-42c8-b691-15d6039c4b67",
   "metadata": {},
   "source": [
    "### BBJ simulation population"
   ]
  },
  {
   "cell_type": "code",
   "execution_count": 104,
   "id": "6ca51880-f2a3-4292-8706-6256cf9643ee",
   "metadata": {
    "tags": []
   },
   "outputs": [],
   "source": [
    "bbj_interset = bbj[bbj['SNP'].isin(interset)]"
   ]
  },
  {
   "cell_type": "code",
   "execution_count": 105,
   "id": "e8c4582b-000d-4500-a216-bf60be7ff49d",
   "metadata": {
    "tags": []
   },
   "outputs": [],
   "source": [
    "bbj_diff = bbj[~bbj['SNP'].isin(interset)].sample(len(interset), random_state=42)"
   ]
  },
  {
   "cell_type": "code",
   "execution_count": 106,
   "id": "0f0b9d26-8407-4d23-9f20-866991c8c54d",
   "metadata": {},
   "outputs": [],
   "source": [
    "bbj_sim_pop = pd.concat([bbj_interset, bbj_diff], axis=0, ignore_index=True)"
   ]
  },
  {
   "cell_type": "code",
   "execution_count": 107,
   "id": "34e87e70-7f5d-4a34-a921-20e599a9be64",
   "metadata": {
    "tags": []
   },
   "outputs": [
    {
     "data": {
      "text/plain": [
       "(790812, 5)"
      ]
     },
     "execution_count": 107,
     "metadata": {},
     "output_type": "execute_result"
    }
   ],
   "source": [
    "bbj_sim_pop.shape"
   ]
  },
  {
   "cell_type": "markdown",
   "id": "47c9763e-8265-4b3d-985b-c950c45e10b5",
   "metadata": {},
   "source": [
    "### PAGE simulation population"
   ]
  },
  {
   "cell_type": "code",
   "execution_count": 108,
   "id": "9fb76ff0-70a9-4290-a380-2938b4ea6432",
   "metadata": {},
   "outputs": [],
   "source": [
    "page_interset = page[page['SNP'].isin(interset)]"
   ]
  },
  {
   "cell_type": "code",
   "execution_count": 109,
   "id": "9e60ae59-0bba-4936-a9f5-4acbfe378cc2",
   "metadata": {},
   "outputs": [],
   "source": [
    "page_diff = page[~page['SNP'].isin(interset)].sample(len(interset), random_state=42)"
   ]
  },
  {
   "cell_type": "code",
   "execution_count": 110,
   "id": "8cfd73e9-1a21-468a-9270-6e3aeb80d070",
   "metadata": {},
   "outputs": [],
   "source": [
    "page_sim_pop = pd.concat([page_interset, page_diff], axis=0, ignore_index=True)"
   ]
  },
  {
   "cell_type": "code",
   "execution_count": 111,
   "id": "1bc2f30c-bbcc-4dba-a511-c3ed05d3c0cf",
   "metadata": {},
   "outputs": [
    {
     "data": {
      "text/plain": [
       "(790812, 5)"
      ]
     },
     "execution_count": 111,
     "metadata": {},
     "output_type": "execute_result"
    }
   ],
   "source": [
    "page_sim_pop.shape"
   ]
  },
  {
   "cell_type": "markdown",
   "id": "8da06854-6cc0-4a1d-9bf5-69cb45a2ccf9",
   "metadata": {},
   "source": [
    "## Save the simulation GWAS data"
   ]
  },
  {
   "cell_type": "code",
   "execution_count": 112,
   "id": "5947137d-acb9-4932-864c-d74ef1642f0e",
   "metadata": {
    "tags": []
   },
   "outputs": [],
   "source": [
    "bbj_sim_pop.to_csv('simulations/bbj_sim_pop.tsv', sep='\\t', index=False, encoding='utf-8')"
   ]
  },
  {
   "cell_type": "code",
   "execution_count": 113,
   "id": "c01b6951-17e2-46d1-ab40-628f2f7a7d23",
   "metadata": {
    "tags": []
   },
   "outputs": [],
   "source": [
    "page_sim_pop.to_csv('simulations/page_sim_pop.tsv', sep='\\t', index=False, encoding='utf-8')"
   ]
  },
  {
   "cell_type": "markdown",
   "id": "cc7c48c7-9801-4ed4-b900-6f7c11caf5e8",
   "metadata": {},
   "source": [
    "## Save the individual GWAS summary data"
   ]
  },
  {
   "cell_type": "code",
   "execution_count": 116,
   "id": "7712539d-5b96-4d15-a359-43310bb8aa4f",
   "metadata": {
    "tags": []
   },
   "outputs": [],
   "source": [
    "bbj_diff.to_csv('simulations/bbj_only_pop.tsv', sep='\\t', index=False, encoding='utf-8')\n",
    "bbj_interset.to_csv('simulations/bbj_share_pop.tsv', sep='\\t', index=False, encoding='utf-8')\n",
    "page_diff.to_csv('simulations/page_only_pop.tsv', sep='\\t', index=False, encoding='utf-8')\n",
    "page_interset.to_csv('simulations/page_share_pop.tsv', sep='\\t', index=False, encoding='utf-8')"
   ]
  },
  {
   "cell_type": "code",
   "execution_count": null,
   "id": "c9371c2c-247b-4ad6-afda-493da587b032",
   "metadata": {},
   "outputs": [],
   "source": []
  },
  {
   "cell_type": "markdown",
   "id": "e3213d93-0cd1-432a-9acb-57bcbe495e7d",
   "metadata": {
    "jp-MarkdownHeadingCollapsed": true,
    "tags": []
   },
   "source": [
    "# Supplemental"
   ]
  },
  {
   "cell_type": "code",
   "execution_count": 42,
   "id": "3c66908f-ae12-4870-92ac-001138ef24eb",
   "metadata": {
    "tags": []
   },
   "outputs": [
    {
     "data": {
      "text/plain": [
       "True"
      ]
     },
     "execution_count": 42,
     "metadata": {},
     "output_type": "execute_result"
    }
   ],
   "source": [
    "'4:117161848' in page_set"
   ]
  },
  {
   "cell_type": "markdown",
   "id": "ae1a3882-d50b-44ce-8091-8e34e825773d",
   "metadata": {},
   "source": [
    "seems to be using GRCh37 cause it matched with rs9999998 here with 4:116240692 (GRCh37)"
   ]
  },
  {
   "cell_type": "markdown",
   "id": "bd5d8fca-7b10-492b-9385-911c2cf3a0b5",
   "metadata": {},
   "source": [
    "24/11/26 I am trying to merge the rsID stuff"
   ]
  },
  {
   "cell_type": "code",
   "execution_count": 25,
   "id": "11bf67e8-e6c2-48af-9fa1-76460f33c168",
   "metadata": {
    "tags": []
   },
   "outputs": [],
   "source": [
    "import requests\n",
    "import csv\n",
    "import time\n"
   ]
  },
  {
   "cell_type": "code",
   "execution_count": 26,
   "id": "de4e9589-c92c-415c-840d-4ce4ae132114",
   "metadata": {
    "tags": []
   },
   "outputs": [],
   "source": [
    "\n",
    "def fetch_rsids(df, retries=3, delay=1):\n",
    "    results = []\n",
    "    for index, row in df.iterrows():\n",
    "        attempts = 0\n",
    "        while attempts < retries:\n",
    "            url = f\"https://rest.ensembl.org/variation/human/chr{row['chromosome']}:{row['position']}_{row['ref']}/{row['alt']}?content-type=application/json\"\n",
    "            response = requests.get(url)\n",
    "            if response.status_code == 200:\n",
    "                data = response.json()\n",
    "                rsid = data.get('name', 'Not found')\n",
    "                results.append({\n",
    "                    'chromosome': row['chromosome'],\n",
    "                    'position': row['position'],\n",
    "                    'ref': row['ref'],\n",
    "                    'alt': row['alt'],\n",
    "                    'rsid': rsid\n",
    "                })\n",
    "                break  # Exit the retry loop on success\n",
    "            else:\n",
    "                attempts += 1\n",
    "                time.sleep(delay)  # Wait before retrying\n",
    "                print(f\"Retry {attempts}/{retries} for position {row['position']}\")\n",
    "        if attempts == retries:\n",
    "            print(f\"Error fetching data after {retries} attempts for position {row['position']}\")\n",
    "            results.append({\n",
    "                'chromosome': row['chromosome'],\n",
    "                'position': row['position'],\n",
    "                'ref': row['ref'],\n",
    "                'alt': row['alt'],\n",
    "                'rsid': 'Error fetching data'\n",
    "            })\n",
    "\n",
    "    return pd.DataFrame(results)"
   ]
  },
  {
   "cell_type": "code",
   "execution_count": 7,
   "id": "c7b2f2ca-f30c-46c3-9856-9d1d5cf3f504",
   "metadata": {
    "tags": []
   },
   "outputs": [],
   "source": [
    "page_small = page[:10]"
   ]
  },
  {
   "cell_type": "code",
   "execution_count": 21,
   "id": "29e97854-b09c-423f-893e-8b1b2e0b0bd8",
   "metadata": {
    "tags": []
   },
   "outputs": [
    {
     "name": "stdout",
     "output_type": "stream",
     "text": [
      "  chromosome position ref alt\n",
      "1          1    69487   G   A\n",
      "2          1    69569   T   C\n",
      "3          1   139853   C   T\n",
      "4          1   692794  CA   C\n",
      "5          1   693731   A   G\n",
      "6          1   707522   G   C\n",
      "7          1   717587   G   A\n",
      "8          1   723329   A   T\n",
      "9          1   730087   T   C\n"
     ]
    }
   ],
   "source": [
    "# Convert data to a DataFrame\n",
    "df = pd.DataFrame(page_small[1:], columns=['variant'])  # Skip the header line\n",
    "\n",
    "# Split the 'variant' column into separate columns\n",
    "df[['chromosome', 'position', 'ref', 'alt']] = df['variant'].str.split(r'[\\s:]', expand=True)\n",
    "\n",
    "# Drop the original 'variant' column\n",
    "df.drop(columns=['variant'], inplace=True)\n",
    "\n",
    "# Display the DataFrame\n",
    "print(df)"
   ]
  },
  {
   "cell_type": "code",
   "execution_count": 27,
   "id": "865b0858-16d4-4365-9faa-add4542a6ab5",
   "metadata": {
    "collapsed": true,
    "jupyter": {
     "outputs_hidden": true
    },
    "tags": []
   },
   "outputs": [
    {
     "name": "stdout",
     "output_type": "stream",
     "text": [
      "Retry 1/3 for position 69487\n",
      "Retry 2/3 for position 69487\n",
      "Retry 3/3 for position 69487\n",
      "Error fetching data after 3 attempts for position 69487\n",
      "Retry 1/3 for position 69569\n",
      "Retry 2/3 for position 69569\n",
      "Retry 3/3 for position 69569\n",
      "Error fetching data after 3 attempts for position 69569\n",
      "Retry 1/3 for position 139853\n",
      "Retry 2/3 for position 139853\n",
      "Retry 3/3 for position 139853\n",
      "Error fetching data after 3 attempts for position 139853\n",
      "Retry 1/3 for position 692794\n",
      "Retry 2/3 for position 692794\n",
      "Retry 3/3 for position 692794\n",
      "Error fetching data after 3 attempts for position 692794\n",
      "Retry 1/3 for position 693731\n",
      "Retry 2/3 for position 693731\n",
      "Retry 3/3 for position 693731\n",
      "Error fetching data after 3 attempts for position 693731\n",
      "Retry 1/3 for position 707522\n",
      "Retry 2/3 for position 707522\n",
      "Retry 3/3 for position 707522\n",
      "Error fetching data after 3 attempts for position 707522\n",
      "Retry 1/3 for position 717587\n",
      "Retry 2/3 for position 717587\n",
      "Retry 3/3 for position 717587\n",
      "Error fetching data after 3 attempts for position 717587\n",
      "Retry 1/3 for position 723329\n",
      "Retry 2/3 for position 723329\n",
      "Retry 3/3 for position 723329\n",
      "Error fetching data after 3 attempts for position 723329\n",
      "Retry 1/3 for position 730087\n",
      "Retry 2/3 for position 730087\n",
      "Retry 3/3 for position 730087\n",
      "Error fetching data after 3 attempts for position 730087\n",
      "chromosome\n",
      "position\n",
      "ref\n",
      "alt\n",
      "rsid\n"
     ]
    }
   ],
   "source": [
    "# \n",
    "snps_with_rsids = fetch_rsids(df)\n",
    "for snp in snps_with_rsids:\n",
    "    print(snp)"
   ]
  },
  {
   "cell_type": "markdown",
   "id": "d0e44ec5-8007-450e-b1b5-299e6d00ad5c",
   "metadata": {
    "tags": []
   },
   "source": [
    "## UKBB"
   ]
  },
  {
   "cell_type": "code",
   "execution_count": 26,
   "id": "a4e34e37-2209-462d-979c-43aecc1ab2a4",
   "metadata": {
    "tags": []
   },
   "outputs": [],
   "source": [
    "# Splitting the 'variants' column and keeping only the chromosome and position\n",
    "page['chromosome_position'] = page['variant'].str.split(':').str[:2].str.join(':')"
   ]
  },
  {
   "cell_type": "code",
   "execution_count": 27,
   "id": "b9a61851-f8fe-401b-93ab-acb9b8f30c25",
   "metadata": {
    "tags": []
   },
   "outputs": [
    {
     "data": {
      "text/html": [
       "<div>\n",
       "<style scoped>\n",
       "    .dataframe tbody tr th:only-of-type {\n",
       "        vertical-align: middle;\n",
       "    }\n",
       "\n",
       "    .dataframe tbody tr th {\n",
       "        vertical-align: top;\n",
       "    }\n",
       "\n",
       "    .dataframe thead th {\n",
       "        text-align: right;\n",
       "    }\n",
       "</style>\n",
       "<table border=\"1\" class=\"dataframe\">\n",
       "  <thead>\n",
       "    <tr style=\"text-align: right;\">\n",
       "      <th></th>\n",
       "      <th>variant</th>\n",
       "      <th>chromosome_position</th>\n",
       "    </tr>\n",
       "  </thead>\n",
       "  <tbody>\n",
       "    <tr>\n",
       "      <th>0</th>\n",
       "      <td>1:15791:C:T</td>\n",
       "      <td>1:15791</td>\n",
       "    </tr>\n",
       "    <tr>\n",
       "      <th>1</th>\n",
       "      <td>1:69487:G:A</td>\n",
       "      <td>1:69487</td>\n",
       "    </tr>\n",
       "    <tr>\n",
       "      <th>2</th>\n",
       "      <td>1:69569:T:C</td>\n",
       "      <td>1:69569</td>\n",
       "    </tr>\n",
       "    <tr>\n",
       "      <th>3</th>\n",
       "      <td>1:139853:C:T</td>\n",
       "      <td>1:139853</td>\n",
       "    </tr>\n",
       "    <tr>\n",
       "      <th>4</th>\n",
       "      <td>1:692794:CA:C</td>\n",
       "      <td>1:692794</td>\n",
       "    </tr>\n",
       "    <tr>\n",
       "      <th>...</th>\n",
       "      <td>...</td>\n",
       "      <td>...</td>\n",
       "    </tr>\n",
       "    <tr>\n",
       "      <th>13791462</th>\n",
       "      <td>X:154929412:C:T</td>\n",
       "      <td>X:154929412</td>\n",
       "    </tr>\n",
       "    <tr>\n",
       "      <th>13791463</th>\n",
       "      <td>X:154929637:CT:C</td>\n",
       "      <td>X:154929637</td>\n",
       "    </tr>\n",
       "    <tr>\n",
       "      <th>13791464</th>\n",
       "      <td>X:154929952:CAA:C</td>\n",
       "      <td>X:154929952</td>\n",
       "    </tr>\n",
       "    <tr>\n",
       "      <th>13791465</th>\n",
       "      <td>X:154930230:A:G</td>\n",
       "      <td>X:154930230</td>\n",
       "    </tr>\n",
       "    <tr>\n",
       "      <th>13791466</th>\n",
       "      <td>X:154930487:T:A</td>\n",
       "      <td>X:154930487</td>\n",
       "    </tr>\n",
       "  </tbody>\n",
       "</table>\n",
       "<p>13791467 rows × 2 columns</p>\n",
       "</div>"
      ],
      "text/plain": [
       "                    variant chromosome_position\n",
       "0               1:15791:C:T             1:15791\n",
       "1               1:69487:G:A             1:69487\n",
       "2               1:69569:T:C             1:69569\n",
       "3              1:139853:C:T            1:139853\n",
       "4             1:692794:CA:C            1:692794\n",
       "...                     ...                 ...\n",
       "13791462    X:154929412:C:T         X:154929412\n",
       "13791463   X:154929637:CT:C         X:154929637\n",
       "13791464  X:154929952:CAA:C         X:154929952\n",
       "13791465    X:154930230:A:G         X:154930230\n",
       "13791466    X:154930487:T:A         X:154930487\n",
       "\n",
       "[13791467 rows x 2 columns]"
      ]
     },
     "execution_count": 27,
     "metadata": {},
     "output_type": "execute_result"
    }
   ],
   "source": [
    "page"
   ]
  },
  {
   "cell_type": "code",
   "execution_count": 28,
   "id": "05716568-ddf7-458c-a179-2744c3e3d459",
   "metadata": {
    "tags": []
   },
   "outputs": [],
   "source": [
    "# page.sort_values(by='variant', ascending=False)['variant']"
   ]
  },
  {
   "cell_type": "code",
   "execution_count": 29,
   "id": "ad386f2b-9d19-4839-9894-c6cd4bf818eb",
   "metadata": {
    "tags": []
   },
   "outputs": [],
   "source": [
    "# bbj.sort_values(by='SNP', ascending=False)"
   ]
  },
  {
   "cell_type": "markdown",
   "id": "f2c7531e-e161-40b1-bf57-23f035ff7cda",
   "metadata": {},
   "source": [
    "## Other"
   ]
  },
  {
   "cell_type": "markdown",
   "id": "04038f0f-051a-456d-94e3-a3cc3f097764",
   "metadata": {},
   "source": [
    "https://hgdownload.soe.ucsc.edu/downloads.html"
   ]
  },
  {
   "cell_type": "markdown",
   "id": "3a2f99b6-e89c-4a23-8430-29d4fdfefbaa",
   "metadata": {},
   "source": [
    "https://www.ncbi.nlm.nih.gov/snp/?term=4%3A116240692"
   ]
  },
  {
   "cell_type": "markdown",
   "id": "02465671-c597-43dd-a90b-10b727aa3b85",
   "metadata": {},
   "source": [
    "https://www.biostars.org/p/312369/"
   ]
  },
  {
   "cell_type": "markdown",
   "id": "7c5aadd7-a291-49f7-abcf-471bf2d6452e",
   "metadata": {},
   "source": [
    "https://github.com/milospjanic/chrPos2rsID"
   ]
  },
  {
   "cell_type": "markdown",
   "id": "ac1f200f-c498-4b56-b4fa-343fdd10ffc8",
   "metadata": {},
   "source": [
    "https://ftp.ncbi.nih.gov/snp/\n",
    "\n",
    "https://ftp.ncbi.nih.gov/snp/organisms/"
   ]
  },
  {
   "cell_type": "markdown",
   "id": "21c04a14-cd8f-40d1-8550-3ff9cbe2a927",
   "metadata": {},
   "source": []
  },
  {
   "cell_type": "code",
   "execution_count": null,
   "id": "eba22fe8-d257-46f1-b7f5-ca1534eed5b7",
   "metadata": {},
   "outputs": [],
   "source": []
  }
 ],
 "metadata": {
  "kernelspec": {
   "display_name": "bmi206",
   "language": "python",
   "name": "bmi206"
  },
  "language_info": {
   "codemirror_mode": {
    "name": "ipython",
    "version": 3
   },
   "file_extension": ".py",
   "mimetype": "text/x-python",
   "name": "python",
   "nbconvert_exporter": "python",
   "pygments_lexer": "ipython3",
   "version": "3.13.0"
  }
 },
 "nbformat": 4,
 "nbformat_minor": 5
}
